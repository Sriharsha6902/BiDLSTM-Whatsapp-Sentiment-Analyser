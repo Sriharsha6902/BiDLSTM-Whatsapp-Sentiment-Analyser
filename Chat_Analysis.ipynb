{
 "cells": [
  {
   "cell_type": "code",
   "execution_count": 7,
   "id": "ce9774eb",
   "metadata": {},
   "outputs": [],
   "source": [
    "import re\n",
    "import pandas as pd"
   ]
  },
  {
   "cell_type": "code",
   "execution_count": 8,
   "id": "fffd69e6",
   "metadata": {},
   "outputs": [],
   "source": [
    "f = open('WhatsApp Chat with Unofficial.txt','r',encoding='utf-8')"
   ]
  },
  {
   "cell_type": "code",
   "execution_count": 9,
   "id": "209116c9",
   "metadata": {},
   "outputs": [],
   "source": [
    "data = f.read()"
   ]
  },
  {
   "cell_type": "code",
   "execution_count": 23,
   "id": "8ce7bfe3",
   "metadata": {},
   "outputs": [],
   "source": [
    "#print(data)"
   ]
  },
  {
   "cell_type": "code",
   "execution_count": 13,
   "id": "0e580084",
   "metadata": {},
   "outputs": [],
   "source": [
    "pattern = '\\d{1,2}/\\d{1,2}/\\d{2,4},\\s\\d{1,2}:\\d{2}\\s-\\s'"
   ]
  },
  {
   "cell_type": "code",
   "execution_count": 14,
   "id": "60b82a00",
   "metadata": {},
   "outputs": [
    {
     "data": {
      "text/plain": [
       "2637"
      ]
     },
     "execution_count": 14,
     "metadata": {},
     "output_type": "execute_result"
    }
   ],
   "source": [
    "messages = re.split(pattern,data)[1:]\n",
    "len(messages)"
   ]
  },
  {
   "cell_type": "code",
   "execution_count": 15,
   "id": "c35d20da",
   "metadata": {},
   "outputs": [
    {
     "data": {
      "text/plain": [
       "2637"
      ]
     },
     "execution_count": 15,
     "metadata": {},
     "output_type": "execute_result"
    }
   ],
   "source": [
    "dates = re.findall(pattern,data)\n",
    "len(dates)"
   ]
  },
  {
   "cell_type": "code",
   "execution_count": 16,
   "id": "5aa8b0f9",
   "metadata": {},
   "outputs": [
    {
     "data": {
      "text/html": [
       "<div>\n",
       "<style scoped>\n",
       "    .dataframe tbody tr th:only-of-type {\n",
       "        vertical-align: middle;\n",
       "    }\n",
       "\n",
       "    .dataframe tbody tr th {\n",
       "        vertical-align: top;\n",
       "    }\n",
       "\n",
       "    .dataframe thead th {\n",
       "        text-align: right;\n",
       "    }\n",
       "</style>\n",
       "<table border=\"1\" class=\"dataframe\">\n",
       "  <thead>\n",
       "    <tr style=\"text-align: right;\">\n",
       "      <th></th>\n",
       "      <th>user_message</th>\n",
       "      <th>date</th>\n",
       "    </tr>\n",
       "  </thead>\n",
       "  <tbody>\n",
       "    <tr>\n",
       "      <th>0</th>\n",
       "      <td>Messages and calls are end-to-end encrypted. N...</td>\n",
       "      <td>2022-08-18 22:21:00</td>\n",
       "    </tr>\n",
       "    <tr>\n",
       "      <th>1</th>\n",
       "      <td>Ajay Sinha AIML: This message was deleted\\n</td>\n",
       "      <td>2022-08-19 16:02:00</td>\n",
       "    </tr>\n",
       "    <tr>\n",
       "      <th>2</th>\n",
       "      <td>Pushkara AIML: Congratulations Krishna Priya a...</td>\n",
       "      <td>2022-08-19 21:13:00</td>\n",
       "    </tr>\n",
       "    <tr>\n",
       "      <th>3</th>\n",
       "      <td>Rishika CR AIML: Congratulations guys!!\\n</td>\n",
       "      <td>2022-08-19 21:14:00</td>\n",
       "    </tr>\n",
       "    <tr>\n",
       "      <th>4</th>\n",
       "      <td>Pulari Venkat: Congratulations krishnapriya Ha...</td>\n",
       "      <td>2022-08-19 21:14:00</td>\n",
       "    </tr>\n",
       "  </tbody>\n",
       "</table>\n",
       "</div>"
      ],
      "text/plain": [
       "                                        user_message                date\n",
       "0  Messages and calls are end-to-end encrypted. N... 2022-08-18 22:21:00\n",
       "1        Ajay Sinha AIML: This message was deleted\\n 2022-08-19 16:02:00\n",
       "2  Pushkara AIML: Congratulations Krishna Priya a... 2022-08-19 21:13:00\n",
       "3          Rishika CR AIML: Congratulations guys!!\\n 2022-08-19 21:14:00\n",
       "4  Pulari Venkat: Congratulations krishnapriya Ha... 2022-08-19 21:14:00"
      ]
     },
     "execution_count": 16,
     "metadata": {},
     "output_type": "execute_result"
    }
   ],
   "source": [
    "df = pd.DataFrame({'user_message':messages, 'message_date': dates})\n",
    "#convert message_date type\n",
    "df['message_date'] = pd.to_datetime(df['message_date'], format='%m/%d/%y, %H:%M - ')\n",
    "df.rename(columns={'message_date': 'date'}, inplace=True)\n",
    "df.head()"
   ]
  },
  {
   "cell_type": "code",
   "execution_count": 17,
   "id": "0e7b4040",
   "metadata": {},
   "outputs": [],
   "source": [
    "df['year'] = df['date'].dt.year"
   ]
  },
  {
   "cell_type": "code",
   "execution_count": 18,
   "id": "d5ff1006",
   "metadata": {},
   "outputs": [],
   "source": [
    "df['month'] = df['date'].dt.month_name()"
   ]
  },
  {
   "cell_type": "code",
   "execution_count": 19,
   "id": "1a8d7c5f",
   "metadata": {},
   "outputs": [],
   "source": [
    "df['day'] = df['date'].dt.day"
   ]
  },
  {
   "cell_type": "code",
   "execution_count": 20,
   "id": "b171d69f",
   "metadata": {},
   "outputs": [],
   "source": [
    "df['hour'] = df['date'].dt.hour"
   ]
  },
  {
   "cell_type": "code",
   "execution_count": 21,
   "id": "afd4a470",
   "metadata": {},
   "outputs": [],
   "source": [
    "df['minute'] = df['date'].dt.minute"
   ]
  },
  {
   "cell_type": "code",
   "execution_count": 22,
   "id": "1dff4fe5",
   "metadata": {},
   "outputs": [
    {
     "data": {
      "text/html": [
       "<div>\n",
       "<style scoped>\n",
       "    .dataframe tbody tr th:only-of-type {\n",
       "        vertical-align: middle;\n",
       "    }\n",
       "\n",
       "    .dataframe tbody tr th {\n",
       "        vertical-align: top;\n",
       "    }\n",
       "\n",
       "    .dataframe thead th {\n",
       "        text-align: right;\n",
       "    }\n",
       "</style>\n",
       "<table border=\"1\" class=\"dataframe\">\n",
       "  <thead>\n",
       "    <tr style=\"text-align: right;\">\n",
       "      <th></th>\n",
       "      <th>user_message</th>\n",
       "      <th>date</th>\n",
       "      <th>year</th>\n",
       "      <th>month</th>\n",
       "      <th>day</th>\n",
       "      <th>hour</th>\n",
       "      <th>minute</th>\n",
       "    </tr>\n",
       "  </thead>\n",
       "  <tbody>\n",
       "    <tr>\n",
       "      <th>0</th>\n",
       "      <td>Messages and calls are end-to-end encrypted. N...</td>\n",
       "      <td>2022-08-18 22:21:00</td>\n",
       "      <td>2022</td>\n",
       "      <td>August</td>\n",
       "      <td>18</td>\n",
       "      <td>22</td>\n",
       "      <td>21</td>\n",
       "    </tr>\n",
       "    <tr>\n",
       "      <th>1</th>\n",
       "      <td>Ajay Sinha AIML: This message was deleted\\n</td>\n",
       "      <td>2022-08-19 16:02:00</td>\n",
       "      <td>2022</td>\n",
       "      <td>August</td>\n",
       "      <td>19</td>\n",
       "      <td>16</td>\n",
       "      <td>2</td>\n",
       "    </tr>\n",
       "    <tr>\n",
       "      <th>2</th>\n",
       "      <td>Pushkara AIML: Congratulations Krishna Priya a...</td>\n",
       "      <td>2022-08-19 21:13:00</td>\n",
       "      <td>2022</td>\n",
       "      <td>August</td>\n",
       "      <td>19</td>\n",
       "      <td>21</td>\n",
       "      <td>13</td>\n",
       "    </tr>\n",
       "    <tr>\n",
       "      <th>3</th>\n",
       "      <td>Rishika CR AIML: Congratulations guys!!\\n</td>\n",
       "      <td>2022-08-19 21:14:00</td>\n",
       "      <td>2022</td>\n",
       "      <td>August</td>\n",
       "      <td>19</td>\n",
       "      <td>21</td>\n",
       "      <td>14</td>\n",
       "    </tr>\n",
       "    <tr>\n",
       "      <th>4</th>\n",
       "      <td>Pulari Venkat: Congratulations krishnapriya Ha...</td>\n",
       "      <td>2022-08-19 21:14:00</td>\n",
       "      <td>2022</td>\n",
       "      <td>August</td>\n",
       "      <td>19</td>\n",
       "      <td>21</td>\n",
       "      <td>14</td>\n",
       "    </tr>\n",
       "  </tbody>\n",
       "</table>\n",
       "</div>"
      ],
      "text/plain": [
       "                                        user_message                date  \\\n",
       "0  Messages and calls are end-to-end encrypted. N... 2022-08-18 22:21:00   \n",
       "1        Ajay Sinha AIML: This message was deleted\\n 2022-08-19 16:02:00   \n",
       "2  Pushkara AIML: Congratulations Krishna Priya a... 2022-08-19 21:13:00   \n",
       "3          Rishika CR AIML: Congratulations guys!!\\n 2022-08-19 21:14:00   \n",
       "4  Pulari Venkat: Congratulations krishnapriya Ha... 2022-08-19 21:14:00   \n",
       "\n",
       "   year   month  day  hour  minute  \n",
       "0  2022  August   18    22      21  \n",
       "1  2022  August   19    16       2  \n",
       "2  2022  August   19    21      13  \n",
       "3  2022  August   19    21      14  \n",
       "4  2022  August   19    21      14  "
      ]
     },
     "execution_count": 22,
     "metadata": {},
     "output_type": "execute_result"
    }
   ],
   "source": [
    "df.head()"
   ]
  }
 ],
 "metadata": {
  "kernelspec": {
   "display_name": "Python 3 (ipykernel)",
   "language": "python",
   "name": "python3"
  },
  "language_info": {
   "codemirror_mode": {
    "name": "ipython",
    "version": 3
   },
   "file_extension": ".py",
   "mimetype": "text/x-python",
   "name": "python",
   "nbconvert_exporter": "python",
   "pygments_lexer": "ipython3",
   "version": "3.9.12"
  }
 },
 "nbformat": 4,
 "nbformat_minor": 5
}
